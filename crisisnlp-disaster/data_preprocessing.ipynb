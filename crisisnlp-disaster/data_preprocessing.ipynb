{
 "cells": [
  {
   "cell_type": "code",
   "execution_count": 227,
   "metadata": {},
   "outputs": [],
   "source": [
    "import os\n",
    "import pandas as pd\n",
    "import chardet\n",
    "import re"
   ]
  },
  {
   "cell_type": "code",
   "execution_count": 228,
   "metadata": {},
   "outputs": [],
   "source": [
    "labels = {\n",
    "    \"no_disaster\": 0,\n",
    "    \"earthquake\": 1,\n",
    "    \"flood\": 2,\n",
    "    \"hurricane\": 3,\n",
    "    \"tornado\": 4,\n",
    "    \"wildfire\": 5\n",
    "}"
   ]
  },
  {
   "cell_type": "code",
   "execution_count": 229,
   "metadata": {},
   "outputs": [
    {
     "name": "stdout",
     "output_type": "stream",
     "text": [
      "{'encoding': 'utf-8', 'confidence': 0.99, 'language': ''}\n"
     ]
    }
   ],
   "source": [
    "dfs = []\n",
    "with open(\"data/wildfire-greece_wildfires_2018_train.tsv\", \"rb\") as f:\n",
    "    result = chardet.detect(f.read())\n",
    "\n",
    "# Print the detected encoding\n",
    "print(result)\n",
    "for file_name in [f for f in os.listdir(\"data/\") if f.endswith(\".tsv\")]:\n",
    "    file_path = os.path.join(\"data/\", file_name)\n",
    "    label = labels[file_name.split(\"-\")[0]]\n",
    "    df = pd.read_csv(file_path, sep='\\t', encoding='utf-8')\n",
    "    # df[\"class_label\"] = df[\"class_label\"].replace(1, label)\n",
    "    df[\"class_label\"] = label\n",
    "    dfs.append(df)"
   ]
  },
  {
   "cell_type": "code",
   "execution_count": 230,
   "metadata": {},
   "outputs": [],
   "source": [
    "combined_df = pd.concat(dfs, ignore_index=True)\n",
    "combined_df.drop(columns=[\"tweet_id\"], inplace=True)\n",
    "combined_df.rename(columns={\"class_label\": \"label\"}, inplace=True)\n",
    "combined_df.rename(columns={\"tweet_text\": \"text\"}, inplace=True)"
   ]
  },
  {
   "cell_type": "code",
   "execution_count": 231,
   "metadata": {},
   "outputs": [
    {
     "data": {
      "text/html": [
       "<div>\n",
       "<style scoped>\n",
       "    .dataframe tbody tr th:only-of-type {\n",
       "        vertical-align: middle;\n",
       "    }\n",
       "\n",
       "    .dataframe tbody tr th {\n",
       "        vertical-align: top;\n",
       "    }\n",
       "\n",
       "    .dataframe thead th {\n",
       "        text-align: right;\n",
       "    }\n",
       "</style>\n",
       "<table border=\"1\" class=\"dataframe\">\n",
       "  <thead>\n",
       "    <tr style=\"text-align: right;\">\n",
       "      <th></th>\n",
       "      <th>text</th>\n",
       "      <th>label</th>\n",
       "    </tr>\n",
       "  </thead>\n",
       "  <tbody>\n",
       "    <tr>\n",
       "      <th>0</th>\n",
       "      <td>Powerful Ecuador quake kills at least 235: POR...</td>\n",
       "      <td>1</td>\n",
       "    </tr>\n",
       "    <tr>\n",
       "      <th>1</th>\n",
       "      <td>Im at awe and saddened with the #EcuadorEarthq...</td>\n",
       "      <td>1</td>\n",
       "    </tr>\n",
       "    <tr>\n",
       "      <th>2</th>\n",
       "      <td>RT @RachelAndJun: Our hearts are with everyone...</td>\n",
       "      <td>1</td>\n",
       "    </tr>\n",
       "    <tr>\n",
       "      <th>3</th>\n",
       "      <td>RT @noticias2000: Ecuador quake death toll has...</td>\n",
       "      <td>1</td>\n",
       "    </tr>\n",
       "    <tr>\n",
       "      <th>4</th>\n",
       "      <td>RT @pzf: BREAKING PHOTOS: Major damage reporte...</td>\n",
       "      <td>1</td>\n",
       "    </tr>\n",
       "  </tbody>\n",
       "</table>\n",
       "</div>"
      ],
      "text/plain": [
       "                                                text  label\n",
       "0  Powerful Ecuador quake kills at least 235: POR...      1\n",
       "1  Im at awe and saddened with the #EcuadorEarthq...      1\n",
       "2  RT @RachelAndJun: Our hearts are with everyone...      1\n",
       "3  RT @noticias2000: Ecuador quake death toll has...      1\n",
       "4  RT @pzf: BREAKING PHOTOS: Major damage reporte...      1"
      ]
     },
     "execution_count": 231,
     "metadata": {},
     "output_type": "execute_result"
    }
   ],
   "source": [
    "combined_df.head()"
   ]
  },
  {
   "cell_type": "code",
   "execution_count": 232,
   "metadata": {},
   "outputs": [
    {
     "data": {
      "text/html": [
       "<div>\n",
       "<style scoped>\n",
       "    .dataframe tbody tr th:only-of-type {\n",
       "        vertical-align: middle;\n",
       "    }\n",
       "\n",
       "    .dataframe tbody tr th {\n",
       "        vertical-align: top;\n",
       "    }\n",
       "\n",
       "    .dataframe thead th {\n",
       "        text-align: right;\n",
       "    }\n",
       "</style>\n",
       "<table border=\"1\" class=\"dataframe\">\n",
       "  <thead>\n",
       "    <tr style=\"text-align: right;\">\n",
       "      <th></th>\n",
       "      <th>text</th>\n",
       "      <th>label</th>\n",
       "    </tr>\n",
       "  </thead>\n",
       "  <tbody>\n",
       "    <tr>\n",
       "      <th>27623</th>\n",
       "      <td>RT @UPI: Greece wildfires: At least 60 dead, h...</td>\n",
       "      <td>5</td>\n",
       "    </tr>\n",
       "    <tr>\n",
       "      <th>27624</th>\n",
       "      <td>#Greek govt announces instant payment of 5,000...</td>\n",
       "      <td>5</td>\n",
       "    </tr>\n",
       "    <tr>\n",
       "      <th>27625</th>\n",
       "      <td>Nine Lives Greece volunteer, Alexis, interview...</td>\n",
       "      <td>5</td>\n",
       "    </tr>\n",
       "    <tr>\n",
       "      <th>27626</th>\n",
       "      <td>RT @keeptalkingGR: Donations for injured pets ...</td>\n",
       "      <td>5</td>\n",
       "    </tr>\n",
       "    <tr>\n",
       "      <th>27627</th>\n",
       "      <td>Mr @netanyahu Greece is in desperate need of h...</td>\n",
       "      <td>5</td>\n",
       "    </tr>\n",
       "  </tbody>\n",
       "</table>\n",
       "</div>"
      ],
      "text/plain": [
       "                                                    text  label\n",
       "27623  RT @UPI: Greece wildfires: At least 60 dead, h...      5\n",
       "27624  #Greek govt announces instant payment of 5,000...      5\n",
       "27625  Nine Lives Greece volunteer, Alexis, interview...      5\n",
       "27626  RT @keeptalkingGR: Donations for injured pets ...      5\n",
       "27627  Mr @netanyahu Greece is in desperate need of h...      5"
      ]
     },
     "execution_count": 232,
     "metadata": {},
     "output_type": "execute_result"
    }
   ],
   "source": [
    "\n",
    "combined_df.tail()"
   ]
  },
  {
   "cell_type": "code",
   "execution_count": 233,
   "metadata": {},
   "outputs": [
    {
     "data": {
      "text/html": [
       "<div>\n",
       "<style scoped>\n",
       "    .dataframe tbody tr th:only-of-type {\n",
       "        vertical-align: middle;\n",
       "    }\n",
       "\n",
       "    .dataframe tbody tr th {\n",
       "        vertical-align: top;\n",
       "    }\n",
       "\n",
       "    .dataframe thead th {\n",
       "        text-align: right;\n",
       "    }\n",
       "</style>\n",
       "<table border=\"1\" class=\"dataframe\">\n",
       "  <thead>\n",
       "    <tr style=\"text-align: right;\">\n",
       "      <th></th>\n",
       "      <th>label</th>\n",
       "    </tr>\n",
       "  </thead>\n",
       "  <tbody>\n",
       "    <tr>\n",
       "      <th>count</th>\n",
       "      <td>27628.000000</td>\n",
       "    </tr>\n",
       "    <tr>\n",
       "      <th>mean</th>\n",
       "      <td>2.804076</td>\n",
       "    </tr>\n",
       "    <tr>\n",
       "      <th>std</th>\n",
       "      <td>1.040089</td>\n",
       "    </tr>\n",
       "    <tr>\n",
       "      <th>min</th>\n",
       "      <td>1.000000</td>\n",
       "    </tr>\n",
       "    <tr>\n",
       "      <th>25%</th>\n",
       "      <td>3.000000</td>\n",
       "    </tr>\n",
       "    <tr>\n",
       "      <th>50%</th>\n",
       "      <td>3.000000</td>\n",
       "    </tr>\n",
       "    <tr>\n",
       "      <th>75%</th>\n",
       "      <td>3.000000</td>\n",
       "    </tr>\n",
       "    <tr>\n",
       "      <th>max</th>\n",
       "      <td>5.000000</td>\n",
       "    </tr>\n",
       "  </tbody>\n",
       "</table>\n",
       "</div>"
      ],
      "text/plain": [
       "              label\n",
       "count  27628.000000\n",
       "mean       2.804076\n",
       "std        1.040089\n",
       "min        1.000000\n",
       "25%        3.000000\n",
       "50%        3.000000\n",
       "75%        3.000000\n",
       "max        5.000000"
      ]
     },
     "execution_count": 233,
     "metadata": {},
     "output_type": "execute_result"
    }
   ],
   "source": [
    "\n",
    "combined_df.describe()"
   ]
  },
  {
   "cell_type": "code",
   "execution_count": 234,
   "metadata": {},
   "outputs": [
    {
     "data": {
      "text/plain": [
       "text     0\n",
       "label    0\n",
       "dtype: int64"
      ]
     },
     "execution_count": 234,
     "metadata": {},
     "output_type": "execute_result"
    }
   ],
   "source": [
    "combined_df.isnull().sum()"
   ]
  },
  {
   "cell_type": "code",
   "execution_count": 235,
   "metadata": {},
   "outputs": [
    {
     "data": {
      "text/plain": [
       "text     27628\n",
       "label        4\n",
       "dtype: int64"
      ]
     },
     "execution_count": 235,
     "metadata": {},
     "output_type": "execute_result"
    }
   ],
   "source": [
    "combined_df.nunique()"
   ]
  },
  {
   "cell_type": "code",
   "execution_count": 236,
   "metadata": {},
   "outputs": [
    {
     "name": "stdout",
     "output_type": "stream",
     "text": [
      "                                                    text  label\n",
      "0      Powerful Ecuador quake kills at least 235: POR...      1\n",
      "1      Im at awe and saddened with the #EcuadorEarthq...      1\n",
      "2      RT @RachelAndJun: Our hearts are with everyone...      1\n",
      "3      RT @noticias2000: Ecuador quake death toll has...      1\n",
      "4      RT @pzf: BREAKING PHOTOS: Major damage reporte...      1\n",
      "...                                                  ...    ...\n",
      "27623  RT @UPI: Greece wildfires: At least 60 dead, h...      5\n",
      "27624  #Greek govt announces instant payment of 5,000...      5\n",
      "27625  Nine Lives Greece volunteer, Alexis, interview...      5\n",
      "27626  RT @keeptalkingGR: Donations for injured pets ...      5\n",
      "27627  Mr @netanyahu Greece is in desperate need of h...      5\n",
      "\n",
      "[27628 rows x 2 columns]\n"
     ]
    }
   ],
   "source": [
    "df = combined_df\n",
    "print(df)"
   ]
  },
  {
   "cell_type": "code",
   "execution_count": 237,
   "metadata": {},
   "outputs": [
    {
     "data": {
      "text/plain": [
       "set()"
      ]
     },
     "execution_count": 237,
     "metadata": {},
     "output_type": "execute_result"
    }
   ],
   "source": [
    "tags = set(df[\"text\"].str.findall(r\"<\\S+>\").sum())\n",
    "tags"
   ]
  },
  {
   "cell_type": "code",
   "execution_count": 238,
   "metadata": {},
   "outputs": [],
   "source": [
    "# Define the emoji removal function\n",
    "import pandas as pd\n",
    "import re\n",
    "\n",
    "# Function to remove both emojis and non-standard ASCII characters\n",
    "def clean_text(text):\n",
    "    # Define patterns for emojis and non-standard ASCII characters\n",
    "    emoji_pattern = re.compile(\n",
    "        \"[\"\n",
    "        u\"\\U0001F600-\\U0001F64F\"  # emoticons\n",
    "        u\"\\U0001F300-\\U0001F5FF\"  # symbols & pictographs\n",
    "        u\"\\U0001F680-\\U0001F6FF\"  # transport & map symbols\n",
    "        u\"\\U0001F1E0-\\U0001F1FF\"  # flags (iOS)\n",
    "        u\"\\U00002702-\\U000027B0\"  # other symbols\n",
    "        u\"\\U000024C2-\\U0001F251\"  # enclosed characters\n",
    "        u\"\\U0001F926-\\U0001F937\"  # supplemental symbols\n",
    "        u\"\\U0001F910-\\U0001F93E\"  # more emoticons\n",
    "        u\"\\U0001F920-\\U0001F927\"  # even more emoticons\n",
    "        u\"\\U0001F930-\\U0001F939\"  # family emojis\n",
    "        u\"\\U0001F9C0-\\U0001F9C2\"  # additional symbols\n",
    "        u\"\\u200d\"                 # zero-width joiner\n",
    "        u\"\\u2640-\\u2642\"          # gender symbols\n",
    "        u\"\\u2600-\\u2B55\"          # miscellaneous symbols\n",
    "        u\"\\u23cf\"                 # eject button\n",
    "        u\"\\u23e9\"                 # fast-forward\n",
    "        u\"\\u231a\"                 # watch\n",
    "        u\"\\u3030\"                 # wavy dash\n",
    "        u\"\\ufe0f\"                 # variation selector\n",
    "        u\"\\u2069\"                 # additional control character\n",
    "        u\"\\u20E3\"                 # combining enclosing keycap\n",
    "        \"]+\", flags=re.UNICODE)\n",
    "\n",
    "    non_ascii_pattern = re.compile(r'[^\\x00-\\x7F]+')\n",
    "    special_chars_pattern = re.compile(r'[@#&$%+-/*\\\\]')\n",
    "\n",
    "    # Remove emojis and non-standard ASCII characters\n",
    "    text = emoji_pattern.sub(r'', text)\n",
    "    text = non_ascii_pattern.sub(r'', text)\n",
    "    text = special_chars_pattern.sub(r'', text)\n",
    "    return text\n",
    "\n",
    "# Apply the emoji removal function to all columns\n",
    "df = df.map(lambda x: clean_text(str(x)))\n"
   ]
  },
  {
   "cell_type": "code",
   "execution_count": 239,
   "metadata": {},
   "outputs": [],
   "source": [
    "df.to_csv(\"data/crisisnlp-preprocessed_data.csv\", sep=\"\\t\", encoding=\"utf-16\", index=False)"
   ]
  }
 ],
 "metadata": {
  "kernelspec": {
   "display_name": "base",
   "language": "python",
   "name": "python3"
  },
  "language_info": {
   "codemirror_mode": {
    "name": "ipython",
    "version": 3
   },
   "file_extension": ".py",
   "mimetype": "text/x-python",
   "name": "python",
   "nbconvert_exporter": "python",
   "pygments_lexer": "ipython3",
   "version": "3.12.3"
  }
 },
 "nbformat": 4,
 "nbformat_minor": 2
}
