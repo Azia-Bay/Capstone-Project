{
 "cells": [
  {
   "cell_type": "markdown",
   "metadata": {},
   "source": [
    "#### Below is merging all3 .CSVs Together"
   ]
  },
  {
   "cell_type": "code",
   "execution_count": 122,
   "metadata": {},
   "outputs": [],
   "source": [
    "import pandas as pd\n",
    "import numpy as np"
   ]
  },
  {
   "cell_type": "code",
   "execution_count": 123,
   "metadata": {},
   "outputs": [
    {
     "name": "stdout",
     "output_type": "stream",
     "text": [
      "                                                    text  label\n",
      "0      Powerful Ecuador quake kills at least 235: POR...      1\n",
      "1      Im at awe and saddened with the EcuadorEarthqu...      1\n",
      "2      RT RachelAndJun: Our hearts are with everyone ...      1\n",
      "3      RT noticias2000: Ecuador quake death toll has ...      1\n",
      "4      RT pzf: BREAKING PHOTOS: Major damage reported...      1\n",
      "...                                                  ...    ...\n",
      "27623  RT UPI: Greece wildfires: At least 60 dead hun...      5\n",
      "27624  Greek govt announces instant payment of 5000 e...      5\n",
      "27625  Nine Lives Greece volunteer Alexis interviewed...      5\n",
      "27626  RT keeptalkingGR: Donations for injured pets a...      5\n",
      "27627  Mr netanyahu Greece is in desperate need of he...      5\n",
      "\n",
      "[27628 rows x 2 columns]\n",
      "                                                    text  label\n",
      "0      earthquake in iloilo, philippines! my head's a...      1\n",
      "1      new: felt earthquake - bohol, philippines - oc...      1\n",
      "2      earthquake, m s of nueva vida sur, philippines...      1\n",
      "3      just in: magnitude earthquake: m south of carm...      1\n",
      "4      earthquake recorded in the philippines' bohol ...      1\n",
      "...                                                  ...    ...\n",
      "64337  waldo canyon fire near colorado springs reache...      5\n",
      "64338  colorado’s waldo canyon fire reaches containme...      5\n",
      "64339        colorado governor lifts statewide fire ban.      5\n",
      "64340  siguemeytesigo colorado governor lifts statewi...      5\n",
      "64341  bc wildfire management says the smoky haze wil...      5\n",
      "\n",
      "[64342 rows x 2 columns]\n",
      "                                                    text  label\n",
      "0      sierra for a pioneer carplay radio, hybrid aud...      0\n",
      "1                if pizza didn't exist i wouldn't be fat      0\n",
      "2                                    pelicans lead after      0\n",
      "3                 fandoms unite missuniverse philippines      0\n",
      "4      @jesscomedy i was trying to mess up their poll...      0\n",
      "...                                                  ...    ...\n",
      "99995                    whatever floats your boat joebo      0\n",
      "99996                                bj mana,amo tu tbm!      0\n",
      "99997  @trillian right because there's always a cop b...      0\n",
      "99998  wow even after the leafs trade kaberle he stil...      0\n",
      "99999                               wats good wit yu tho      0\n",
      "\n",
      "[100000 rows x 2 columns]\n"
     ]
    }
   ],
   "source": [
    "df1 = pd.read_csv(\"crisisnlp-preprocessed_data.csv\", sep=\"\\t\", encoding=\"utf-16\")\n",
    "print(df1)\n",
    "df2 = pd.read_csv(\"preprocessed_data.csv\", sep=\"\\t\", encoding=\"utf-16\")\n",
    "print(df2)\n",
    "df3 = pd.read_csv(\"preprocessed_tranquil_tweets.csv\", sep=\"\\t\", encoding=\"utf-16\")\n",
    "print(df3)"
   ]
  },
  {
   "cell_type": "code",
   "execution_count": 124,
   "metadata": {},
   "outputs": [
    {
     "name": "stdout",
     "output_type": "stream",
     "text": [
      "                                                     text  label\n",
      "0       Powerful Ecuador quake kills at least 235: POR...      1\n",
      "1       Im at awe and saddened with the EcuadorEarthqu...      1\n",
      "2       RT RachelAndJun: Our hearts are with everyone ...      1\n",
      "3       RT noticias2000: Ecuador quake death toll has ...      1\n",
      "4       RT pzf: BREAKING PHOTOS: Major damage reported...      1\n",
      "...                                                   ...    ...\n",
      "191965                    whatever floats your boat joebo      0\n",
      "191966                                bj mana,amo tu tbm!      0\n",
      "191967  @trillian right because there's always a cop b...      0\n",
      "191968  wow even after the leafs trade kaberle he stil...      0\n",
      "191969                               wats good wit yu tho      0\n",
      "\n",
      "[191970 rows x 2 columns]\n"
     ]
    }
   ],
   "source": [
    "combined_df = pd.concat([df1, df2, df3], ignore_index=True)\n",
    "print(combined_df)"
   ]
  },
  {
   "cell_type": "code",
   "execution_count": 125,
   "metadata": {},
   "outputs": [
    {
     "name": "stdout",
     "output_type": "stream",
     "text": [
      "                                                     text  label\n",
      "191952                      tappanakii with happybirthday      0\n",
      "100000  why you should start paying attention to pro s...      0\n",
      "99999   me before sending a risky text vs. me after it...      0\n",
      "99998                                       capt.erwin 👫💑      0\n",
      "99997   lot of blackberry lane winter theme cross stit...      0\n",
      "...                                                   ...    ...\n",
      "91939   would rather watch wildfire on the hudson this...      5\n",
      "91938   please please rt. help find lucky tiny terrior...      5\n",
      "91947   it could be worse. i could be in colorado wher...      5\n",
      "91969   bc wildfire management says the smoky haze wil...      5\n",
      "91946   colorado springs is my town also, please if ya...      5\n",
      "\n",
      "[191970 rows x 2 columns]\n"
     ]
    }
   ],
   "source": [
    "combined_df.sort_values(by='label', inplace=True)\n",
    "print(combined_df)"
   ]
  },
  {
   "cell_type": "code",
   "execution_count": null,
   "metadata": {},
   "outputs": [],
   "source": [
    "# One more round of full cleaning data again (copied from my other file)\n",
    "import pandas as pd\n",
    "import re\n",
    "\n",
    "# Function to remove both emojis and non-standard ASCII characters\n",
    "def clean_text(text):\n",
    "    # Define patterns for emojis and non-standard ASCII characters\n",
    "    emoji_pattern = re.compile(\n",
    "        \"[\"\n",
    "        u\"\\U0001F600-\\U0001F64F\"  # emoticons\n",
    "        u\"\\U0001F300-\\U0001F5FF\"  # symbols & pictographs\n",
    "        u\"\\U0001F680-\\U0001F6FF\"  # transport & map symbols\n",
    "        u\"\\U0001F1E0-\\U0001F1FF\"  # flags (iOS)\n",
    "        u\"\\U00002702-\\U000027B0\"  # other symbols\n",
    "        u\"\\U000024C2-\\U0001F251\"  # enclosed characters\n",
    "        u\"\\U0001F926-\\U0001F937\"  # supplemental symbols\n",
    "        u\"\\U0001F910-\\U0001F93E\"  # more emoticons\n",
    "        u\"\\U0001F920-\\U0001F927\"  # even more emoticons\n",
    "        u\"\\U0001F930-\\U0001F939\"  # family emojis\n",
    "        u\"\\U0001F9C0-\\U0001F9C2\"  # additional symbols\n",
    "        u\"\\u200d\"                 # zero-width joiner\n",
    "        u\"\\u2640-\\u2642\"          # gender symbols\n",
    "        u\"\\u2600-\\u2B55\"          # miscellaneous symbols\n",
    "        u\"\\u23cf\"                 # eject button\n",
    "        u\"\\u23e9\"                 # fast-forward\n",
    "        u\"\\u231a\"                 # watch\n",
    "        u\"\\u3030\"                 # wavy dash\n",
    "        u\"\\ufe0f\"                 # variation selector\n",
    "        u\"\\u2069\"                 # additional control character\n",
    "        u\"\\u20E3\"                 # combining enclosing keycap\n",
    "        \"]+\", flags=re.UNICODE)\n",
    "\n",
    "    non_ascii_pattern = re.compile(r'[^\\x00-\\x7F]+')\n",
    "    special_chars_pattern = re.compile(r'[@#&$%+-/*\\\\]')\n",
    "\n",
    "    # Remove emojis and non-standard ASCII characters\n",
    "    text = emoji_pattern.sub(r'', text)\n",
    "    text = non_ascii_pattern.sub(r'', text)\n",
    "    text = special_chars_pattern.sub(r'', text)\n",
    "    return text"
   ]
  },
  {
   "cell_type": "code",
   "execution_count": 127,
   "metadata": {},
   "outputs": [
    {
     "name": "stdout",
     "output_type": "stream",
     "text": [
      "                                                     text label\n",
      "191952                      tappanakii with happybirthday     0\n",
      "100000  why you should start paying attention to pro s...     0\n",
      "99999   me before sending a risky text vs me after it ...     0\n",
      "99998                                          capterwin      0\n",
      "99997   lot of blackberry lane winter theme cross stit...     0\n",
      "...                                                   ...   ...\n",
      "91939   would rather watch wildfire on the hudson this...     5\n",
      "91938   please please rt help find lucky tiny terrior ...     5\n",
      "91947   it could be worse i could be in colorado where...     5\n",
      "91969   bc wildfire management says the smoky haze wil...     5\n",
      "91946   colorado springs is my town also please if ya ...     5\n",
      "\n",
      "[191970 rows x 2 columns]\n"
     ]
    }
   ],
   "source": [
    "df = combined_df\n",
    "# Apply the emoji removal function to all columns\n",
    "df = df.map(lambda x: clean_text(str(x)))\n",
    "print(df)"
   ]
  },
  {
   "cell_type": "code",
   "execution_count": 128,
   "metadata": {},
   "outputs": [],
   "source": [
    "combined_df.to_csv('combined_dataset.csv', index=False)"
   ]
  }
 ],
 "metadata": {
  "kernelspec": {
   "display_name": "base",
   "language": "python",
   "name": "python3"
  },
  "language_info": {
   "codemirror_mode": {
    "name": "ipython",
    "version": 3
   },
   "file_extension": ".py",
   "mimetype": "text/x-python",
   "name": "python",
   "nbconvert_exporter": "python",
   "pygments_lexer": "ipython3",
   "version": "3.12.3"
  }
 },
 "nbformat": 4,
 "nbformat_minor": 2
}
