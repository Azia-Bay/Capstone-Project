{
 "cells": [
  {
   "cell_type": "markdown",
   "metadata": {},
   "source": [
    "### Import Libraries"
   ]
  },
  {
   "cell_type": "code",
   "execution_count": 28,
   "metadata": {},
   "outputs": [],
   "source": [
    "import os\n",
    "import re\n",
    "import pandas as pd\n",
    "import matplotlib.pyplot as plt\n",
    "import numpy as np\n",
    "import torch\n",
    "import torch.nn as nn\n",
    "import torch.nn.functional as F\n",
    "import torch.optim as optim\n",
    "from sklearn.model_selection import train_test_split\n",
    "from sklearn.preprocessing import LabelEncoder\n",
    "from sklearn.metrics import accuracy_score, precision_score, classification_report\n",
    "from sklearn.feature_extraction.text import CountVectorizer\n",
    "from torch.utils.data import Dataset, DataLoader, TensorDataset\n"
   ]
  },
  {
   "cell_type": "code",
   "execution_count": 4,
   "metadata": {},
   "outputs": [
    {
     "name": "stdout",
     "output_type": "stream",
     "text": [
      "Using device = cpu\n"
     ]
    }
   ],
   "source": [
    "np.random.seed(0)\n",
    "torch.manual_seed(0)\n",
    "\n",
    "# Check if CUDA is available\n",
    "device = torch.device('cpu')\n",
    "if torch.cuda.is_available():\n",
    "    device = torch.device('cuda')\n",
    "\n",
    "torch.set_default_device(device)\n",
    "print(f\"Using device = {torch.get_default_device()}\")"
   ]
  },
  {
   "cell_type": "markdown",
   "metadata": {},
   "source": [
    "### Read in dataset"
   ]
  },
  {
   "cell_type": "code",
   "execution_count": 5,
   "metadata": {},
   "outputs": [
    {
     "data": {
      "text/html": [
       "<div>\n",
       "<style scoped>\n",
       "    .dataframe tbody tr th:only-of-type {\n",
       "        vertical-align: middle;\n",
       "    }\n",
       "\n",
       "    .dataframe tbody tr th {\n",
       "        vertical-align: top;\n",
       "    }\n",
       "\n",
       "    .dataframe thead th {\n",
       "        text-align: right;\n",
       "    }\n",
       "</style>\n",
       "<table border=\"1\" class=\"dataframe\">\n",
       "  <thead>\n",
       "    <tr style=\"text-align: right;\">\n",
       "      <th></th>\n",
       "      <th>text</th>\n",
       "      <th>label</th>\n",
       "      <th>text_clean</th>\n",
       "      <th>text_lists</th>\n",
       "    </tr>\n",
       "  </thead>\n",
       "  <tbody>\n",
       "    <tr>\n",
       "      <th>0</th>\n",
       "      <td>tappanakii with happybirthday</td>\n",
       "      <td>0</td>\n",
       "      <td>tappanakii happybirthday</td>\n",
       "      <td>['tappanakii', 'happybirthday']</td>\n",
       "    </tr>\n",
       "    <tr>\n",
       "      <th>1</th>\n",
       "      <td>why you should start paying attention to pro s...</td>\n",
       "      <td>0</td>\n",
       "      <td>start paying attention pro softball sports earth</td>\n",
       "      <td>['start', 'paying', 'attention', 'pro', 'softb...</td>\n",
       "    </tr>\n",
       "    <tr>\n",
       "      <th>2</th>\n",
       "      <td>me before sending a risky text vs. me after it...</td>\n",
       "      <td>0</td>\n",
       "      <td>sending risky text vs pays</td>\n",
       "      <td>['sending', 'risky', 'text', 'vs', 'pays']</td>\n",
       "    </tr>\n",
       "    <tr>\n",
       "      <th>3</th>\n",
       "      <td>capt.erwin 👫💑</td>\n",
       "      <td>0</td>\n",
       "      <td>capterwin</td>\n",
       "      <td>['capterwin']</td>\n",
       "    </tr>\n",
       "    <tr>\n",
       "      <th>4</th>\n",
       "      <td>lot of blackberry lane winter theme cross stit...</td>\n",
       "      <td>0</td>\n",
       "      <td>lot blackberry lane winter theme cross stitch ...</td>\n",
       "      <td>['lot', 'blackberry', 'lane', 'winter', 'theme...</td>\n",
       "    </tr>\n",
       "    <tr>\n",
       "      <th>5</th>\n",
       "      <td>thinking about pulling up to philly tomorrow</td>\n",
       "      <td>0</td>\n",
       "      <td>thinking pulling philly tomorrow</td>\n",
       "      <td>['thinking', 'pulling', 'philly', 'tomorrow']</td>\n",
       "    </tr>\n",
       "    <tr>\n",
       "      <th>6</th>\n",
       "      <td>my nail hurts so bad.</td>\n",
       "      <td>0</td>\n",
       "      <td>nail hurts bad</td>\n",
       "      <td>['nail', 'hurts', 'bad']</td>\n",
       "    </tr>\n",
       "    <tr>\n",
       "      <th>7</th>\n",
       "      <td>that's good enough for me!</td>\n",
       "      <td>0</td>\n",
       "      <td>thats good enough</td>\n",
       "      <td>['thats', 'good', 'enough']</td>\n",
       "    </tr>\n",
       "    <tr>\n",
       "      <th>8</th>\n",
       "      <td>usa bargains apple ipad air b retina t gen, wi...</td>\n",
       "      <td>0</td>\n",
       "      <td>usa bargains apple ipad air b retina gen wi-fi...</td>\n",
       "      <td>['usa', 'bargains', 'apple', 'ipad', 'air', 'b...</td>\n",
       "    </tr>\n",
       "    <tr>\n",
       "      <th>9</th>\n",
       "      <td>start buying aaa and indie games at ridiculous...</td>\n",
       "      <td>0</td>\n",
       "      <td>start buying aaa indie games ridiculous low pr...</td>\n",
       "      <td>['start', 'buying', 'aaa', 'indie', 'games', '...</td>\n",
       "    </tr>\n",
       "  </tbody>\n",
       "</table>\n",
       "</div>"
      ],
      "text/plain": [
       "                                                text  label  \\\n",
       "0                      tappanakii with happybirthday      0   \n",
       "1  why you should start paying attention to pro s...      0   \n",
       "2  me before sending a risky text vs. me after it...      0   \n",
       "3                                      capt.erwin 👫💑      0   \n",
       "4  lot of blackberry lane winter theme cross stit...      0   \n",
       "5       thinking about pulling up to philly tomorrow      0   \n",
       "6                              my nail hurts so bad.      0   \n",
       "7                         that's good enough for me!      0   \n",
       "8  usa bargains apple ipad air b retina t gen, wi...      0   \n",
       "9  start buying aaa and indie games at ridiculous...      0   \n",
       "\n",
       "                                          text_clean  \\\n",
       "0                           tappanakii happybirthday   \n",
       "1   start paying attention pro softball sports earth   \n",
       "2                         sending risky text vs pays   \n",
       "3                                          capterwin   \n",
       "4  lot blackberry lane winter theme cross stitch ...   \n",
       "5                   thinking pulling philly tomorrow   \n",
       "6                                     nail hurts bad   \n",
       "7                                  thats good enough   \n",
       "8  usa bargains apple ipad air b retina gen wi-fi...   \n",
       "9  start buying aaa indie games ridiculous low pr...   \n",
       "\n",
       "                                          text_lists  \n",
       "0                    ['tappanakii', 'happybirthday']  \n",
       "1  ['start', 'paying', 'attention', 'pro', 'softb...  \n",
       "2         ['sending', 'risky', 'text', 'vs', 'pays']  \n",
       "3                                      ['capterwin']  \n",
       "4  ['lot', 'blackberry', 'lane', 'winter', 'theme...  \n",
       "5      ['thinking', 'pulling', 'philly', 'tomorrow']  \n",
       "6                           ['nail', 'hurts', 'bad']  \n",
       "7                        ['thats', 'good', 'enough']  \n",
       "8  ['usa', 'bargains', 'apple', 'ipad', 'air', 'b...  \n",
       "9  ['start', 'buying', 'aaa', 'indie', 'games', '...  "
      ]
     },
     "execution_count": 5,
     "metadata": {},
     "output_type": "execute_result"
    }
   ],
   "source": [
    "file_path_csv = \"crisisnlp-disaster/cleaned_combined_dataset.csv\"\n",
    "\n",
    "df = pd.read_csv(file_path_csv)\n",
    "df.head(10)"
   ]
  },
  {
   "cell_type": "code",
   "execution_count": null,
   "metadata": {},
   "outputs": [
    {
     "data": {
      "text/html": [
       "<div>\n",
       "<style scoped>\n",
       "    .dataframe tbody tr th:only-of-type {\n",
       "        vertical-align: middle;\n",
       "    }\n",
       "\n",
       "    .dataframe tbody tr th {\n",
       "        vertical-align: top;\n",
       "    }\n",
       "\n",
       "    .dataframe thead th {\n",
       "        text-align: right;\n",
       "    }\n",
       "</style>\n",
       "<table border=\"1\" class=\"dataframe\">\n",
       "  <thead>\n",
       "    <tr style=\"text-align: right;\">\n",
       "      <th></th>\n",
       "      <th>text</th>\n",
       "      <th>label</th>\n",
       "      <th>text_clean</th>\n",
       "      <th>text_lists</th>\n",
       "    </tr>\n",
       "  </thead>\n",
       "  <tbody>\n",
       "    <tr>\n",
       "      <th>0</th>\n",
       "      <td>tappanakii with happybirthday</td>\n",
       "      <td>0</td>\n",
       "      <td>tappanakii happybirthday</td>\n",
       "      <td>['tappanakii', 'happybirthday']</td>\n",
       "    </tr>\n",
       "    <tr>\n",
       "      <th>1</th>\n",
       "      <td>why you should start paying attention to pro s...</td>\n",
       "      <td>0</td>\n",
       "      <td>start paying attention pro softball sports earth</td>\n",
       "      <td>['start', 'paying', 'attention', 'pro', 'softb...</td>\n",
       "    </tr>\n",
       "    <tr>\n",
       "      <th>2</th>\n",
       "      <td>me before sending a risky text vs. me after it...</td>\n",
       "      <td>0</td>\n",
       "      <td>sending risky text vs pays</td>\n",
       "      <td>['sending', 'risky', 'text', 'vs', 'pays']</td>\n",
       "    </tr>\n",
       "    <tr>\n",
       "      <th>3</th>\n",
       "      <td>capt.erwin 👫💑</td>\n",
       "      <td>0</td>\n",
       "      <td>capterwin</td>\n",
       "      <td>['capterwin']</td>\n",
       "    </tr>\n",
       "    <tr>\n",
       "      <th>4</th>\n",
       "      <td>lot of blackberry lane winter theme cross stit...</td>\n",
       "      <td>0</td>\n",
       "      <td>lot blackberry lane winter theme cross stitch ...</td>\n",
       "      <td>['lot', 'blackberry', 'lane', 'winter', 'theme...</td>\n",
       "    </tr>\n",
       "    <tr>\n",
       "      <th>5</th>\n",
       "      <td>thinking about pulling up to philly tomorrow</td>\n",
       "      <td>0</td>\n",
       "      <td>thinking pulling philly tomorrow</td>\n",
       "      <td>['thinking', 'pulling', 'philly', 'tomorrow']</td>\n",
       "    </tr>\n",
       "    <tr>\n",
       "      <th>6</th>\n",
       "      <td>my nail hurts so bad.</td>\n",
       "      <td>0</td>\n",
       "      <td>nail hurts bad</td>\n",
       "      <td>['nail', 'hurts', 'bad']</td>\n",
       "    </tr>\n",
       "    <tr>\n",
       "      <th>7</th>\n",
       "      <td>that's good enough for me!</td>\n",
       "      <td>0</td>\n",
       "      <td>thats good enough</td>\n",
       "      <td>['thats', 'good', 'enough']</td>\n",
       "    </tr>\n",
       "    <tr>\n",
       "      <th>8</th>\n",
       "      <td>usa bargains apple ipad air b retina t gen, wi...</td>\n",
       "      <td>0</td>\n",
       "      <td>usa bargains apple ipad air b retina gen wi-fi...</td>\n",
       "      <td>['usa', 'bargains', 'apple', 'ipad', 'air', 'b...</td>\n",
       "    </tr>\n",
       "    <tr>\n",
       "      <th>9</th>\n",
       "      <td>start buying aaa and indie games at ridiculous...</td>\n",
       "      <td>0</td>\n",
       "      <td>start buying aaa indie games ridiculous low pr...</td>\n",
       "      <td>['start', 'buying', 'aaa', 'indie', 'games', '...</td>\n",
       "    </tr>\n",
       "  </tbody>\n",
       "</table>\n",
       "</div>"
      ],
      "text/plain": [
       "                                                text  label  \\\n",
       "0                      tappanakii with happybirthday      0   \n",
       "1  why you should start paying attention to pro s...      0   \n",
       "2  me before sending a risky text vs. me after it...      0   \n",
       "3                                      capt.erwin 👫💑      0   \n",
       "4  lot of blackberry lane winter theme cross stit...      0   \n",
       "5       thinking about pulling up to philly tomorrow      0   \n",
       "6                              my nail hurts so bad.      0   \n",
       "7                         that's good enough for me!      0   \n",
       "8  usa bargains apple ipad air b retina t gen, wi...      0   \n",
       "9  start buying aaa and indie games at ridiculous...      0   \n",
       "\n",
       "                                          text_clean  \\\n",
       "0                           tappanakii happybirthday   \n",
       "1   start paying attention pro softball sports earth   \n",
       "2                         sending risky text vs pays   \n",
       "3                                          capterwin   \n",
       "4  lot blackberry lane winter theme cross stitch ...   \n",
       "5                   thinking pulling philly tomorrow   \n",
       "6                                     nail hurts bad   \n",
       "7                                  thats good enough   \n",
       "8  usa bargains apple ipad air b retina gen wi-fi...   \n",
       "9  start buying aaa indie games ridiculous low pr...   \n",
       "\n",
       "                                          text_lists  \n",
       "0                    ['tappanakii', 'happybirthday']  \n",
       "1  ['start', 'paying', 'attention', 'pro', 'softb...  \n",
       "2         ['sending', 'risky', 'text', 'vs', 'pays']  \n",
       "3                                      ['capterwin']  \n",
       "4  ['lot', 'blackberry', 'lane', 'winter', 'theme...  \n",
       "5      ['thinking', 'pulling', 'philly', 'tomorrow']  \n",
       "6                           ['nail', 'hurts', 'bad']  \n",
       "7                        ['thats', 'good', 'enough']  \n",
       "8  ['usa', 'bargains', 'apple', 'ipad', 'air', 'b...  \n",
       "9  ['start', 'buying', 'aaa', 'indie', 'games', '...  "
      ]
     },
     "execution_count": 6,
     "metadata": {},
     "output_type": "execute_result"
    }
   ],
   "source": [
    "def remove_punc_caps(text):\n",
    "    text = text.lower()\n",
    "    text = re.sub(r'[^a-z0-9\\s-]|(?<=\\s)-|-(?=\\s)', '', text)\n",
    "    return text\n",
    "\n",
    "raw_text = df.copy()\n",
    "raw_text = raw_text.dropna().reset_index(drop=True)\n",
    "raw_text.head(10)"
   ]
  },
  {
   "cell_type": "markdown",
   "metadata": {},
   "source": [
    "### Split dataset into train and test"
   ]
  },
  {
   "cell_type": "code",
   "execution_count": 7,
   "metadata": {},
   "outputs": [
    {
     "name": "stdout",
     "output_type": "stream",
     "text": [
      "shape of train data is (143052,)\n",
      "shape of test data is (47685,)\n"
     ]
    }
   ],
   "source": [
    "x, y = raw_text['text_clean'].values, raw_text['label'].values\n",
    "x_train, x_test, y_train, y_test = train_test_split(x, y, stratify=y)\n",
    "print(f'shape of train data is {x_train.shape}')\n",
    "print(f'shape of test data is {x_test.shape}')"
   ]
  },
  {
   "cell_type": "code",
   "execution_count": null,
   "metadata": {},
   "outputs": [],
   "source": [
    "CONTEXT_SIZE = 2\n",
    "EMBEDDING_DIM = 6\n",
    "HIDDEN_LAYERS = 6\n",
    "\n",
    "def sentence_to_indices(sentence, word_to_ix):\n",
    "    return [word_to_ix[word] for word in sentence.split() if word in word_to_ix]\n",
    "\n",
    "# Function to pad sequences\n",
    "def pad_sequence(sequence, seq_length):\n",
    "    if len(sequence) < seq_length:\n",
    "        sequence = sequence + [0] * (seq_length - len(sequence))  # Padding with 0s\n",
    "    else:\n",
    "        sequence = sequence[:seq_length]  # Truncating if too long\n",
    "    return sequence\n"
   ]
  },
  {
   "cell_type": "code",
   "execution_count": null,
   "metadata": {},
   "outputs": [
    {
     "name": "stdout",
     "output_type": "stream",
     "text": [
      "Vocabulary Size: 6375\n"
     ]
    }
   ],
   "source": [
    "cv = CountVectorizer(min_df=20)\n",
    "cv_matrix = cv.fit_transform(x_train.tolist())\n",
    "all_texts_word_to_ix = cv.vocabulary_\n",
    "\n",
    "vocab_size = len(all_texts_word_to_ix)\n",
    "\n",
    "print(\"Vocabulary Size:\", vocab_size)\n"
   ]
  },
  {
   "cell_type": "code",
   "execution_count": 11,
   "metadata": {},
   "outputs": [],
   "source": [
    "def process_data(text, label, word_to_ix, seq_length):\n",
    "    indices = sentence_to_indices(text, word_to_ix)  # Convert text to indices\n",
    "    if not indices:\n",
    "        return None, None  # Skip empty sequences\n",
    "    \n",
    "    padded_sequence = pad_sequence(indices, seq_length)\n",
    "    input_tensor = torch.tensor(padded_sequence, dtype=torch.long)\n",
    "    label_tensor = torch.tensor(label, dtype=torch.long)\n",
    "    return input_tensor, label_tensor"
   ]
  },
  {
   "cell_type": "code",
   "execution_count": 12,
   "metadata": {},
   "outputs": [
    {
     "name": "stdout",
     "output_type": "stream",
     "text": [
      "Train Input Tensor: torch.Size([140247, 50])\n",
      "Train Label Tensor: torch.Size([140247])\n",
      "Test Input Tensor: torch.Size([46732, 50])\n",
      "Test Label Tensor: torch.Size([46732])\n"
     ]
    }
   ],
   "source": [
    "seq_length = 50\n",
    "\n",
    "# Process training data\n",
    "train_data = [process_data(text, label, all_texts_word_to_ix, seq_length) for text, label in zip(x_train, y_train)]\n",
    "train_inputs, train_labels = zip(*[d for d in train_data if d[0] is not None])\n",
    "train_input_tensor = torch.stack(train_inputs)\n",
    "train_label_tensor = torch.stack(train_labels)\n",
    "\n",
    "# Process test data\n",
    "test_data = [process_data(text, label, all_texts_word_to_ix, seq_length) for text, label in zip(x_test, y_test)]\n",
    "test_inputs, test_labels = zip(*[d for d in test_data if d[0] is not None])\n",
    "test_input_tensor = torch.stack(test_inputs)\n",
    "test_label_tensor = torch.stack(test_labels)\n",
    "\n",
    "# Print shapes to verify correctness\n",
    "print(\"Train Input Tensor:\", train_input_tensor.size())\n",
    "print(\"Train Label Tensor:\", train_label_tensor.size())\n",
    "print(\"Test Input Tensor:\", test_input_tensor.size())\n",
    "print(\"Test Label Tensor:\", test_label_tensor.size())"
   ]
  },
  {
   "cell_type": "code",
   "execution_count": 13,
   "metadata": {},
   "outputs": [],
   "source": [
    "# Create DataLoader for batching\n",
    "batch_size = 128\n",
    "train_dataset = TensorDataset(train_input_tensor, train_label_tensor)\n",
    "train_loader = DataLoader(train_dataset, batch_size=batch_size, shuffle=True)\n",
    "\n",
    "test_dataset = TensorDataset(test_input_tensor, test_label_tensor)\n",
    "test_loader = DataLoader(test_dataset, batch_size=batch_size, shuffle=False)"
   ]
  },
  {
   "cell_type": "code",
   "execution_count": 16,
   "metadata": {},
   "outputs": [],
   "source": [
    "class LSTMModel(nn.Module):\n",
    "    def __init__(self, input_dim, hidden_dim, layer_dim, output_dim=6):\n",
    "        super(LSTMModel, self).__init__()\n",
    "        self.hidden_dim = hidden_dim\n",
    "        self.layer_dim = layer_dim\n",
    "        self.embedding = nn.Embedding(vocab_size, input_dim)\n",
    "        self.lstm = nn.LSTM(input_dim, hidden_dim, layer_dim, batch_first=True)\n",
    "        self.fc = nn.Linear(hidden_dim, output_dim)\n",
    "        self.log_softmax = nn.LogSoftmax(dim=1)\n",
    "\n",
    "    def forward(self, x, h0=None, c0=None):\n",
    "        x = self.embedding(x)\n",
    "        if h0 is None or c0 is None:\n",
    "            h0 = torch.zeros(self.layer_dim, x.size(0), self.hidden_dim).to(x.device)\n",
    "            c0 = torch.zeros(self.layer_dim, x.size(0), self.hidden_dim).to(x.device)\n",
    "        \n",
    "        out, (hn, cn) = self.lstm(x, (h0, c0))\n",
    "        out = self.fc(out[:, -1, :])\n",
    "\n",
    "        probabilities = self.log_softmax(out)\n",
    "\n",
    "        return probabilities, hn, cn"
   ]
  },
  {
   "cell_type": "code",
   "execution_count": 17,
   "metadata": {},
   "outputs": [],
   "source": [
    "model = LSTMModel(input_dim=64, hidden_dim=128, layer_dim=2, output_dim=6).to(device)\n",
    "#criterion = nn.CrossEntropyLoss()\n",
    "criterion = nn.NLLLoss()\n",
    "optimizer = torch.optim.Adam(model.parameters(), lr=0.001)\n"
   ]
  },
  {
   "cell_type": "code",
   "execution_count": 18,
   "metadata": {},
   "outputs": [],
   "source": [
    "train_label_tensor = train_label_tensor.to(torch.long).to(device)\n",
    "train_input_tensor = train_input_tensor.to(torch.long).to(device)\n",
    "train_dataset = TensorDataset(train_input_tensor, train_label_tensor)\n",
    "train_loader = DataLoader(train_dataset, batch_size=batch_size, shuffle=True, pin_memory=True)"
   ]
  },
  {
   "cell_type": "code",
   "execution_count": 23,
   "metadata": {},
   "outputs": [
    {
     "name": "stdout",
     "output_type": "stream",
     "text": [
      "Epoch [10/50], Loss: 0.0054, Accuracy: 0.9983\n",
      "Epoch [20/50], Loss: 0.0046, Accuracy: 0.9985\n",
      "Epoch [30/50], Loss: 0.0039, Accuracy: 0.9986\n",
      "Epoch [40/50], Loss: 0.0035, Accuracy: 0.9988\n",
      "Epoch [50/50], Loss: 0.0036, Accuracy: 0.9988\n"
     ]
    }
   ],
   "source": [
    "num_epochs = 50\n",
    "\n",
    "for epoch in range(num_epochs):\n",
    "    model.train()\n",
    "    total_loss = 0\n",
    "    all_preds = []\n",
    "    all_labels = []\n",
    "\n",
    "    for batch_inputs, batch_labels in train_loader:\n",
    "        #batch_inputs, batch_labels = batch_inputs.to(device), batch_labels.to(device)\n",
    "        optimizer.zero_grad()\n",
    "\n",
    "        outputs, h0, c0 = model(batch_inputs)\n",
    "\n",
    "        loss = criterion(outputs, batch_labels)\n",
    "        loss.backward()\n",
    "        optimizer.step()\n",
    "\n",
    "        total_loss += loss.item()\n",
    "\n",
    "        # Convert output probabilities to class indices\n",
    "        preds = torch.argmax(outputs, dim=1)  # Get highest probability class\n",
    "        all_preds.extend(preds.cpu().numpy())\n",
    "        all_labels.extend(batch_labels.cpu().numpy())\n",
    "\n",
    "    accuracy = accuracy_score(all_labels, all_preds)\n",
    "    #precision = precision_score(all_labels, all_preds, average='weighted', zero_division=0)\n",
    "\n",
    "    if (epoch+1) % 10 == 0:\n",
    "        print(f'Epoch [{epoch+1}/{num_epochs}], Loss: {total_loss/len(train_loader):.4f}, '\n",
    "              f'Accuracy: {accuracy:.4f}')\n"
   ]
  },
  {
   "cell_type": "markdown",
   "metadata": {},
   "source": [
    "### Save the model"
   ]
  },
  {
   "cell_type": "code",
   "execution_count": 24,
   "metadata": {},
   "outputs": [],
   "source": [
    "checkpoint = {\n",
    "    \"model_state_dict\": model.state_dict(),\n",
    "    \"optimizer_state_dict\": optimizer.state_dict(),\n",
    "    \"input_dim\": 64,\n",
    "    \"hidden_dim\": 128,\n",
    "    \"layer_dim\": 2,\n",
    "    \"output_dim\": 6,\n",
    "    \"vocab_size\": vocab_size,\n",
    "    \"epochs\": num_epochs\n",
    "}\n",
    "\n",
    "torch.save(checkpoint, \"lstm_checkpoint.pth\")"
   ]
  },
  {
   "cell_type": "markdown",
   "metadata": {},
   "source": [
    "### Load the model"
   ]
  },
  {
   "cell_type": "code",
   "execution_count": null,
   "metadata": {},
   "outputs": [],
   "source": [
    "checkpoint = torch.load(\"lstm_checkpoint.pth\")\n",
    "\n",
    "# Recreate the model using the saved metadata\n",
    "model = LSTMModel(\n",
    "    input_dim=checkpoint[\"input_dim\"],\n",
    "    hidden_dim=checkpoint[\"hidden_dim\"],\n",
    "    layer_dim=checkpoint[\"layer_dim\"],\n",
    "    output_dim=checkpoint[\"output_dim\"]\n",
    ").to(device)\n",
    "\n",
    "# Load the trained weights\n",
    "model.load_state_dict(checkpoint[\"model_state_dict\"])\n",
    "model.eval()  # Set to evaluation mode\n",
    "\n",
    "# Reload optimizer state if continuing training\n",
    "optimizer.load_state_dict(checkpoint[\"optimizer_state_dict\"])"
   ]
  },
  {
   "cell_type": "markdown",
   "metadata": {},
   "source": [
    "### Test the Model"
   ]
  },
  {
   "cell_type": "code",
   "execution_count": 25,
   "metadata": {},
   "outputs": [],
   "source": [
    "test_label_tensor = test_label_tensor.to(torch.long).to(device)\n",
    "test_input_tensor = test_input_tensor.to(torch.long).to(device)\n",
    "test_dataset = TensorDataset(test_input_tensor, test_label_tensor)\n",
    "test_loader = DataLoader(test_dataset, batch_size=128, shuffle=True, pin_memory=True)"
   ]
  },
  {
   "cell_type": "code",
   "execution_count": 30,
   "metadata": {},
   "outputs": [
    {
     "name": "stdout",
     "output_type": "stream",
     "text": [
      "Test Accuracy: 0.9581\n",
      "Test Precision: 0.9580\n",
      "Classification Report:\n",
      "               precision    recall  f1-score   support\n",
      "\n",
      "           0       0.96      0.98      0.97     23762\n",
      "           1       0.96      0.95      0.95      5346\n",
      "           2       0.94      0.91      0.92      3776\n",
      "           3       0.96      0.93      0.95     10913\n",
      "           4       0.94      0.92      0.93      1476\n",
      "           5       0.94      0.94      0.94      1459\n",
      "\n",
      "    accuracy                           0.96     46732\n",
      "   macro avg       0.95      0.94      0.94     46732\n",
      "weighted avg       0.96      0.96      0.96     46732\n",
      "\n"
     ]
    }
   ],
   "source": [
    "model.eval()  # Set model to evaluation mode (important!)\n",
    "\n",
    "all_preds = []\n",
    "all_labels = []\n",
    "\n",
    "with torch.no_grad():  # Disable gradient calculation for faster evaluation\n",
    "    for batch_inputs, batch_labels in test_loader:\n",
    "        batch_inputs, batch_labels = batch_inputs.to(device), batch_labels.to(device)\n",
    "\n",
    "        outputs, _, _ = model(batch_inputs)  # Get model predictions\n",
    "        preds = torch.argmax(outputs, dim=1)  # Convert probabilities to class predictions\n",
    "\n",
    "        all_preds.extend(preds.cpu().numpy())  # Move to CPU for metrics\n",
    "        all_labels.extend(batch_labels.cpu().numpy())\n",
    "\n",
    "# Compute metrics\n",
    "accuracy = accuracy_score(all_labels, all_preds)\n",
    "precision = precision_score(all_labels, all_preds, average='weighted', zero_division=0)\n",
    "report = classification_report(all_labels, all_preds)\n",
    "\n",
    "print(f\"Test Accuracy: {accuracy:.4f}\")\n",
    "print(f\"Test Precision: {precision:.4f}\")\n",
    "print(\"Classification Report:\\n\", report)\n"
   ]
  }
 ],
 "metadata": {
  "kernelspec": {
   "display_name": "Python 3",
   "language": "python",
   "name": "python3"
  },
  "language_info": {
   "codemirror_mode": {
    "name": "ipython",
    "version": 3
   },
   "file_extension": ".py",
   "mimetype": "text/x-python",
   "name": "python",
   "nbconvert_exporter": "python",
   "pygments_lexer": "ipython3",
   "version": "3.11.9"
  }
 },
 "nbformat": 4,
 "nbformat_minor": 2
}
