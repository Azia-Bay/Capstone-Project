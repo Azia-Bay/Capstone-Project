{
 "cells": [
  {
   "cell_type": "markdown",
   "metadata": {},
   "source": [
    "### Import Libraries"
   ]
  },
  {
   "cell_type": "code",
   "execution_count": 1,
   "metadata": {},
   "outputs": [],
   "source": [
    "import ndjson\n",
    "import os\n",
    "import pandas as pd"
   ]
  },
  {
   "cell_type": "markdown",
   "metadata": {},
   "source": [
    "### Extract Tranquil Tweets"
   ]
  },
  {
   "cell_type": "code",
   "execution_count": 2,
   "metadata": {},
   "outputs": [],
   "source": [
    "dfs = []\n",
    "\n",
    "for file_name in [f for f in os.listdir(\"tranquil/\") if f.endswith(\".ndjson\")]:\n",
    "    file_path = os.path.join(\"tranquil/\", file_name)\n",
    "    df = pd.read_json(file_path, lines=True, nrows=100000)\n",
    "    dfs.append(df)"
   ]
  },
  {
   "cell_type": "code",
   "execution_count": 3,
   "metadata": {},
   "outputs": [],
   "source": [
    "combined_df = pd.concat(dfs, ignore_index=True)"
   ]
  },
  {
   "cell_type": "code",
   "execution_count": 4,
   "metadata": {},
   "outputs": [],
   "source": [
    "combined_df.drop(columns=[\"id\"], inplace=True)"
   ]
  },
  {
   "cell_type": "code",
   "execution_count": 5,
   "metadata": {},
   "outputs": [],
   "source": [
    "combined_df.rename(columns={\"relevance\": \"label\"}, inplace=True)"
   ]
  },
  {
   "cell_type": "code",
   "execution_count": 6,
   "metadata": {},
   "outputs": [
    {
     "data": {
      "text/html": [
       "<div>\n",
       "<style scoped>\n",
       "    .dataframe tbody tr th:only-of-type {\n",
       "        vertical-align: middle;\n",
       "    }\n",
       "\n",
       "    .dataframe tbody tr th {\n",
       "        vertical-align: top;\n",
       "    }\n",
       "\n",
       "    .dataframe thead th {\n",
       "        text-align: right;\n",
       "    }\n",
       "</style>\n",
       "<table border=\"1\" class=\"dataframe\">\n",
       "  <thead>\n",
       "    <tr style=\"text-align: right;\">\n",
       "      <th></th>\n",
       "      <th>text</th>\n",
       "      <th>label</th>\n",
       "    </tr>\n",
       "  </thead>\n",
       "  <tbody>\n",
       "    <tr>\n",
       "      <th>0</th>\n",
       "      <td>&lt;NUMBER&gt; sierra for a pioneer carplay radio, h...</td>\n",
       "      <td>0</td>\n",
       "    </tr>\n",
       "    <tr>\n",
       "      <th>1</th>\n",
       "      <td>if pizza didn't exist i wouldn't be fat</td>\n",
       "      <td>0</td>\n",
       "    </tr>\n",
       "    <tr>\n",
       "      <th>2</th>\n",
       "      <td>&lt;HASHTAG&gt; pelicans lead after &lt;NUMBER&gt; &lt;URL&gt;</td>\n",
       "      <td>0</td>\n",
       "    </tr>\n",
       "    <tr>\n",
       "      <th>3</th>\n",
       "      <td>fandoms unite &lt;HASHTAG&gt; missuniverse &lt;HASHTAG&gt;...</td>\n",
       "      <td>0</td>\n",
       "    </tr>\n",
       "    <tr>\n",
       "      <th>4</th>\n",
       "      <td>&lt;USER&gt; @jesscomedy i was trying to mess up the...</td>\n",
       "      <td>0</td>\n",
       "    </tr>\n",
       "  </tbody>\n",
       "</table>\n",
       "</div>"
      ],
      "text/plain": [
       "                                                text  label\n",
       "0  <NUMBER> sierra for a pioneer carplay radio, h...      0\n",
       "1            if pizza didn't exist i wouldn't be fat      0\n",
       "2       <HASHTAG> pelicans lead after <NUMBER> <URL>      0\n",
       "3  fandoms unite <HASHTAG> missuniverse <HASHTAG>...      0\n",
       "4  <USER> @jesscomedy i was trying to mess up the...      0"
      ]
     },
     "execution_count": 6,
     "metadata": {},
     "output_type": "execute_result"
    }
   ],
   "source": [
    "combined_df.head()"
   ]
  },
  {
   "cell_type": "code",
   "execution_count": 7,
   "metadata": {},
   "outputs": [
    {
     "data": {
      "text/html": [
       "<div>\n",
       "<style scoped>\n",
       "    .dataframe tbody tr th:only-of-type {\n",
       "        vertical-align: middle;\n",
       "    }\n",
       "\n",
       "    .dataframe tbody tr th {\n",
       "        vertical-align: top;\n",
       "    }\n",
       "\n",
       "    .dataframe thead th {\n",
       "        text-align: right;\n",
       "    }\n",
       "</style>\n",
       "<table border=\"1\" class=\"dataframe\">\n",
       "  <thead>\n",
       "    <tr style=\"text-align: right;\">\n",
       "      <th></th>\n",
       "      <th>text</th>\n",
       "      <th>label</th>\n",
       "    </tr>\n",
       "  </thead>\n",
       "  <tbody>\n",
       "    <tr>\n",
       "      <th>99995</th>\n",
       "      <td>&lt;USER&gt; whatever floats your boat joebo</td>\n",
       "      <td>0</td>\n",
       "    </tr>\n",
       "    <tr>\n",
       "      <th>99996</th>\n",
       "      <td>&lt;USER&gt; bj mana,amo tu tbm!</td>\n",
       "      <td>0</td>\n",
       "    </tr>\n",
       "    <tr>\n",
       "      <th>99997</th>\n",
       "      <td>&lt;USER&gt; @trillian &lt;NUMBER&gt; right because there'...</td>\n",
       "      <td>0</td>\n",
       "    </tr>\n",
       "    <tr>\n",
       "      <th>99998</th>\n",
       "      <td>wow even after the &lt;HASHTAG&gt; leafs trade &lt;HASH...</td>\n",
       "      <td>0</td>\n",
       "    </tr>\n",
       "    <tr>\n",
       "      <th>99999</th>\n",
       "      <td>&lt;USER&gt; wats good wit yu tho</td>\n",
       "      <td>0</td>\n",
       "    </tr>\n",
       "  </tbody>\n",
       "</table>\n",
       "</div>"
      ],
      "text/plain": [
       "                                                    text  label\n",
       "99995             <USER> whatever floats your boat joebo      0\n",
       "99996                         <USER> bj mana,amo tu tbm!      0\n",
       "99997  <USER> @trillian <NUMBER> right because there'...      0\n",
       "99998  wow even after the <HASHTAG> leafs trade <HASH...      0\n",
       "99999                        <USER> wats good wit yu tho      0"
      ]
     },
     "execution_count": 7,
     "metadata": {},
     "output_type": "execute_result"
    }
   ],
   "source": [
    "combined_df.tail()"
   ]
  },
  {
   "cell_type": "code",
   "execution_count": 8,
   "metadata": {},
   "outputs": [
    {
     "data": {
      "text/html": [
       "<div>\n",
       "<style scoped>\n",
       "    .dataframe tbody tr th:only-of-type {\n",
       "        vertical-align: middle;\n",
       "    }\n",
       "\n",
       "    .dataframe tbody tr th {\n",
       "        vertical-align: top;\n",
       "    }\n",
       "\n",
       "    .dataframe thead th {\n",
       "        text-align: right;\n",
       "    }\n",
       "</style>\n",
       "<table border=\"1\" class=\"dataframe\">\n",
       "  <thead>\n",
       "    <tr style=\"text-align: right;\">\n",
       "      <th></th>\n",
       "      <th>label</th>\n",
       "    </tr>\n",
       "  </thead>\n",
       "  <tbody>\n",
       "    <tr>\n",
       "      <th>count</th>\n",
       "      <td>100000.0</td>\n",
       "    </tr>\n",
       "    <tr>\n",
       "      <th>mean</th>\n",
       "      <td>0.0</td>\n",
       "    </tr>\n",
       "    <tr>\n",
       "      <th>std</th>\n",
       "      <td>0.0</td>\n",
       "    </tr>\n",
       "    <tr>\n",
       "      <th>min</th>\n",
       "      <td>0.0</td>\n",
       "    </tr>\n",
       "    <tr>\n",
       "      <th>25%</th>\n",
       "      <td>0.0</td>\n",
       "    </tr>\n",
       "    <tr>\n",
       "      <th>50%</th>\n",
       "      <td>0.0</td>\n",
       "    </tr>\n",
       "    <tr>\n",
       "      <th>75%</th>\n",
       "      <td>0.0</td>\n",
       "    </tr>\n",
       "    <tr>\n",
       "      <th>max</th>\n",
       "      <td>0.0</td>\n",
       "    </tr>\n",
       "  </tbody>\n",
       "</table>\n",
       "</div>"
      ],
      "text/plain": [
       "          label\n",
       "count  100000.0\n",
       "mean        0.0\n",
       "std         0.0\n",
       "min         0.0\n",
       "25%         0.0\n",
       "50%         0.0\n",
       "75%         0.0\n",
       "max         0.0"
      ]
     },
     "execution_count": 8,
     "metadata": {},
     "output_type": "execute_result"
    }
   ],
   "source": [
    "combined_df.describe()"
   ]
  },
  {
   "cell_type": "code",
   "execution_count": 9,
   "metadata": {},
   "outputs": [
    {
     "data": {
      "text/plain": [
       "text     0\n",
       "label    0\n",
       "dtype: int64"
      ]
     },
     "execution_count": 9,
     "metadata": {},
     "output_type": "execute_result"
    }
   ],
   "source": [
    "combined_df.isnull().sum()"
   ]
  },
  {
   "cell_type": "code",
   "execution_count": 10,
   "metadata": {},
   "outputs": [
    {
     "data": {
      "text/plain": [
       "text     88812\n",
       "label        1\n",
       "dtype: int64"
      ]
     },
     "execution_count": 10,
     "metadata": {},
     "output_type": "execute_result"
    }
   ],
   "source": [
    "combined_df.nunique()"
   ]
  },
  {
   "cell_type": "code",
   "execution_count": 11,
   "metadata": {},
   "outputs": [
    {
     "data": {
      "text/plain": [
       "text     object\n",
       "label     int64\n",
       "dtype: object"
      ]
     },
     "execution_count": 11,
     "metadata": {},
     "output_type": "execute_result"
    }
   ],
   "source": [
    "combined_df.dtypes"
   ]
  },
  {
   "cell_type": "code",
   "execution_count": 12,
   "metadata": {},
   "outputs": [],
   "source": [
    "df = combined_df"
   ]
  },
  {
   "cell_type": "markdown",
   "metadata": {},
   "source": [
    "### Removing Tags"
   ]
  },
  {
   "cell_type": "code",
   "execution_count": 13,
   "metadata": {},
   "outputs": [
    {
     "data": {
      "text/plain": [
       "{'<HASHTAG>', '<NUMBER>', '<REPEAT>', '<SMILE>', '<URL>', '<USER>'}"
      ]
     },
     "execution_count": 13,
     "metadata": {},
     "output_type": "execute_result"
    }
   ],
   "source": [
    "tags = set(df[\"text\"].str.findall(r\"<\\S+>\").sum())\n",
    "tags"
   ]
  },
  {
   "cell_type": "code",
   "execution_count": 16,
   "metadata": {},
   "outputs": [],
   "source": [
    "for tag in tags:\n",
    "    df.loc[:, \"text\"] = df[\"text\"].str.replace(tag, \"\")"
   ]
  },
  {
   "cell_type": "code",
   "execution_count": 17,
   "metadata": {},
   "outputs": [
    {
     "data": {
      "text/plain": [
       "set()"
      ]
     },
     "execution_count": 17,
     "metadata": {},
     "output_type": "execute_result"
    }
   ],
   "source": [
    "set(df[\"text\"].str.findall(r\"<\\S+>\").sum())"
   ]
  },
  {
   "cell_type": "markdown",
   "metadata": {},
   "source": [
    "### Removing Links"
   ]
  },
  {
   "cell_type": "code",
   "execution_count": 18,
   "metadata": {},
   "outputs": [
    {
     "data": {
      "text/plain": [
       "1395"
      ]
     },
     "execution_count": 18,
     "metadata": {},
     "output_type": "execute_result"
    }
   ],
   "source": [
    "tco_links = set(df[\"text\"].str.findall(r\"\\S*t\\.co\\S*\").sum())\n",
    "len(tco_links)"
   ]
  },
  {
   "cell_type": "code",
   "execution_count": 20,
   "metadata": {},
   "outputs": [
    {
     "data": {
      "text/plain": [
       "1624"
      ]
     },
     "execution_count": 20,
     "metadata": {},
     "output_type": "execute_result"
    }
   ],
   "source": [
    "http_links = set(df[\"text\"].str.findall(r\"\\S*http\\S*\").sum())\n",
    "len(http_links)"
   ]
  },
  {
   "cell_type": "code",
   "execution_count": 21,
   "metadata": {},
   "outputs": [
    {
     "data": {
      "text/plain": [
       "1686"
      ]
     },
     "execution_count": 21,
     "metadata": {},
     "output_type": "execute_result"
    }
   ],
   "source": [
    "links = tco_links | http_links\n",
    "len(links)"
   ]
  },
  {
   "cell_type": "code",
   "execution_count": 22,
   "metadata": {},
   "outputs": [],
   "source": [
    "for link in links:\n",
    "    df.loc[:, \"text\"] = df[\"text\"].str.replace(link, \"\")"
   ]
  },
  {
   "cell_type": "code",
   "execution_count": 23,
   "metadata": {},
   "outputs": [
    {
     "data": {
      "text/plain": [
       "{'\"t.co/',\n",
       " '(t.co/hwngc',\n",
       " '(t.co/mqjtov',\n",
       " '(t.co/msjzik',\n",
       " '(t.co/v',\n",
       " '(t.co/yqqv',\n",
       " '(video)t.co/xrsrgsz',\n",
       " '[t.co/yorefwng',\n",
       " '[tinychat.com]',\n",
       " 'facebook&gt;&gt;&gt;t.co/',\n",
       " 'here:t.co/wjne',\n",
       " 'heywoodt.co/cccqcse…',\n",
       " 'intonews.blogspot.com',\n",
       " 'ladygagalyricsvault.com/lady-gaga-news/alice-cooper-pretends-to-throttle-lady-gaga',\n",
       " 'somethingmeaningfulcreations.blogspot.com/',\n",
       " 'statsheet.com/mcb/games',\n",
       " 't.co',\n",
       " 't.co/',\n",
       " 't.co/aahgtrjn',\n",
       " 't.co/afycslpgqt\"',\n",
       " 't.co/agvdwgotph”',\n",
       " 't.co/ajzdph…',\n",
       " 't.co/an',\n",
       " 't.co/andtz…',\n",
       " 't.co/aoznzulsmr”',\n",
       " 't.co/ars…',\n",
       " 't.co/a…',\n",
       " 't.co/ccfzq',\n",
       " 't.co/cd',\n",
       " 't.co/cevigswzrl.',\n",
       " 't.co/cfgtbht',\n",
       " 't.co/cltssn…',\n",
       " 't.co/coc',\n",
       " 't.co/cwjwe…',\n",
       " 't.co/deigil',\n",
       " 't.co/diuyy',\n",
       " 't.co/dm…',\n",
       " 't.co/dq…',\n",
       " 't.co/drhr',\n",
       " 't.co/dsymr…',\n",
       " 't.co/dtn',\n",
       " 't.co/duvsuno…',\n",
       " 't.co/dvbhlh',\n",
       " 't.co/dx',\n",
       " 't.co/d…',\n",
       " 't.co/e',\n",
       " 't.co/eabog…',\n",
       " 't.co/egafi',\n",
       " 't.co/ehfon',\n",
       " 't.co/em',\n",
       " 't.co/emqumyu”',\n",
       " 't.co/envgfq',\n",
       " 't.co/eoe',\n",
       " 't.co/eray',\n",
       " 't.co/esjbzatdss…',\n",
       " 't.co/etpptogohs”',\n",
       " 't.co/ev',\n",
       " 't.co/eyx',\n",
       " 't.co/e…',\n",
       " 't.co/f',\n",
       " 't.co/fbhm',\n",
       " 't.co/fbvgnojleq”',\n",
       " 't.co/fclnrvpiuv\"”',\n",
       " 't.co/fdf',\n",
       " 't.co/feb',\n",
       " 't.co/febwyat…',\n",
       " 't.co/fga',\n",
       " 't.co/fgb',\n",
       " 't.co/fhjirn',\n",
       " 't.co/fhmyedcook”',\n",
       " 't.co/fklpfrc…',\n",
       " 't.co/fljecxvm',\n",
       " 't.co/fqmkaupz',\n",
       " 't.co/fuuljlhzwg”',\n",
       " 't.co/fuvphubwah”',\n",
       " 't.co/fvtoyna…',\n",
       " 't.co/fwv',\n",
       " 't.co/fxftrk',\n",
       " 't.co/fyifk…',\n",
       " 't.co/fywjdn',\n",
       " 't.co/f…',\n",
       " 't.co/g',\n",
       " 't.co/ggjcmkwcsf”',\n",
       " 't.co/gi…',\n",
       " 't.co/gnwzigrq',\n",
       " 't.co/gtkf',\n",
       " 't.co/gu',\n",
       " 't.co/gulndxrmxj!',\n",
       " 't.co/gwb',\n",
       " 't.co/g…',\n",
       " 't.co/hb',\n",
       " 't.co/hc',\n",
       " 't.co/hee',\n",
       " 't.co/hfnmodxfby”',\n",
       " 't.co/hfozzfqf',\n",
       " 't.co/hjstz…',\n",
       " 't.co/hjure…',\n",
       " 't.co/hmyz…',\n",
       " 't.co/ho',\n",
       " 't.co/hoxriv…',\n",
       " 't.co/ht',\n",
       " 't.co/hxmkq',\n",
       " 't.co/i',\n",
       " 't.co/idkyz…',\n",
       " 't.co/ih',\n",
       " 't.co/ih…',\n",
       " 't.co/iodn…',\n",
       " 't.co/ir',\n",
       " 't.co/itrcqv',\n",
       " 't.co/izkwn',\n",
       " 't.co/i…',\n",
       " 't.co/j',\n",
       " 't.co/jmrx',\n",
       " 't.co/jomoorbuhs”@jmorrisey83',\n",
       " 't.co/jq',\n",
       " 't.co/jq…',\n",
       " 't.co/jtihcd',\n",
       " 't.co/jtklt…',\n",
       " 't.co/jw',\n",
       " 't.co/k',\n",
       " 't.co/kdylgzsadj”',\n",
       " 't.co/kfl',\n",
       " 't.co/kfumw',\n",
       " 't.co/klfy',\n",
       " 't.co/kqa',\n",
       " 't.co/ku',\n",
       " 't.co/k…',\n",
       " 't.co/lf',\n",
       " 't.co/lfdjkw',\n",
       " 't.co/lfzghw…',\n",
       " 't.co/lhz',\n",
       " 't.co/lkeymtbw…',\n",
       " 't.co/llclx',\n",
       " 't.co/lo',\n",
       " 't.co/loxd',\n",
       " 't.co/lpg',\n",
       " 't.co/lredw…',\n",
       " 't.co/ltoqvw…',\n",
       " 't.co/m',\n",
       " 't.co/mb',\n",
       " 't.co/mc',\n",
       " 't.co/medeqkqd…',\n",
       " 't.co/mg…',\n",
       " 't.co/mlk',\n",
       " 't.co/moqu',\n",
       " 't.co/mq…',\n",
       " 't.co/msb',\n",
       " 't.co/mwg…',\n",
       " 't.co/mzd',\n",
       " 't.co/n',\n",
       " 't.co/nbl…',\n",
       " 't.co/nd…',\n",
       " 't.co/nq',\n",
       " 't.co/nvtqatzqfe.',\n",
       " 't.co/o',\n",
       " 't.co/oa',\n",
       " 't.co/oa…',\n",
       " 't.co/obh',\n",
       " 't.co/ojumgzrydn”',\n",
       " 't.co/ok',\n",
       " 't.co/omt',\n",
       " 't.co/on',\n",
       " 't.co/opxd',\n",
       " 't.co/oq',\n",
       " 't.co/oqu',\n",
       " 't.co/ouw',\n",
       " 't.co/oykx',\n",
       " 't.co/o…',\n",
       " 't.co/p',\n",
       " 't.co/pgqya…',\n",
       " 't.co/pkejbqskxn\"2',\n",
       " 't.co/pr',\n",
       " 't.co/psgjetudrd\"',\n",
       " 't.co/p…',\n",
       " 't.co/r',\n",
       " 't.co/resc…',\n",
       " 't.co/rggz…',\n",
       " 't.co/rwaccmruic”',\n",
       " 't.co/rz…',\n",
       " 't.co/r…',\n",
       " 't.co/s',\n",
       " 't.co/sbmfflj”--&gt;&ya',\n",
       " 't.co/se…',\n",
       " 't.co/sojwxhzq…',\n",
       " 't.co/soye',\n",
       " 't.co/srtfq',\n",
       " 't.co/sup',\n",
       " 't.co/swkmjajqnd\"',\n",
       " 't.co/sxyqddnf…',\n",
       " 't.co/tb',\n",
       " 't.co/teswfesnpi”lmfaoo😂😂',\n",
       " 't.co/tmfmy…',\n",
       " 't.co/tmo…',\n",
       " 't.co/tqmxclcgxy\"',\n",
       " 't.co/tqvziu',\n",
       " 't.co/ts',\n",
       " 't.co/tws…',\n",
       " 't.co/t…',\n",
       " 't.co/v',\n",
       " 't.co/vc…',\n",
       " 't.co/ve',\n",
       " 't.co/vkkiuct…',\n",
       " 't.co/vklvx',\n",
       " 't.co/vllwaa…',\n",
       " 't.co/vnlhrvo',\n",
       " 't.co/vos',\n",
       " 't.co/vp',\n",
       " 't.co/vvnb',\n",
       " 't.co/vynicx',\n",
       " 't.co/vysjdb',\n",
       " 't.co/vy…',\n",
       " 't.co/vzwcsn…',\n",
       " 't.co/vzwic',\n",
       " 't.co/v…',\n",
       " 't.co/w',\n",
       " 't.co/waztw',\n",
       " 't.co/wbw',\n",
       " 't.co/wfjhzp…',\n",
       " 't.co/wwkwu',\n",
       " 't.co/wypeafdl…',\n",
       " 't.co/wzhd',\n",
       " 't.co/wzmu…',\n",
       " 't.co/xaavter',\n",
       " 't.co/xbqyxzx',\n",
       " 't.co/xcc…',\n",
       " 't.co/xdda',\n",
       " 't.co/xetvfa…',\n",
       " 't.co/xjs…',\n",
       " 't.co/xnibbnwspb\"',\n",
       " 't.co/xwjkawrngf”me',\n",
       " 't.co/xzxbpho\"&lt;--------yup',\n",
       " 't.co/x…',\n",
       " 't.co/y',\n",
       " 't.co/yc…',\n",
       " 't.co/ydmlu…',\n",
       " 't.co/ye…',\n",
       " 't.co/yfgh…',\n",
       " 't.co/ykj…',\n",
       " 't.co/yky…',\n",
       " 't.co/ynqe…',\n",
       " 't.co/yokpvww',\n",
       " 't.co/ypobsfzivu',\n",
       " 't.co/yq',\n",
       " 't.co/yqoq',\n",
       " 't.co/ytqlzjaq…',\n",
       " 't.co/yvhvqbhg',\n",
       " 't.co/ywioj…',\n",
       " 't.co/z',\n",
       " 't.co/zgalrhcv…',\n",
       " 't.co/zhc…',\n",
       " 't.co/zi…',\n",
       " 't.co/zkkmfhv…',\n",
       " 't.co/zmgeibnhni\"',\n",
       " 't.co/zoaadlwche”',\n",
       " 't.co/zqeat…',\n",
       " 't.co/zsdm',\n",
       " 't.co/ztmhvqtmpe\"',\n",
       " 't.co/zybatk…',\n",
       " 't.co/zyfjuj…',\n",
       " 't.co/zzjrhumwlx”',\n",
       " 't.co/…',\n",
       " 't.co…',\n",
       " 'this!t.co/ygh…',\n",
       " 'www.greenhostit.com',\n",
       " 'www.sftvuncut.com/-page',\n",
       " \"➡️➡️t.co/jpchvuvylq⬅️⬅️it's\",\n",
       " '🎶🎶😻👉t.co/',\n",
       " '👉t.co/jbbwyd',\n",
       " '👉t.co/wy',\n",
       " '👉🏼t.co/stz',\n",
       " '👌🏼!🔥🎶🔥🎶t.co/hiae'}"
      ]
     },
     "execution_count": 23,
     "metadata": {},
     "output_type": "execute_result"
    }
   ],
   "source": [
    "set(df[\"text\"].str.findall(r\"\\S*t\\.co\\S*\").sum())"
   ]
  },
  {
   "cell_type": "code",
   "execution_count": 24,
   "metadata": {},
   "outputs": [
    {
     "data": {
      "text/plain": [
       "set()"
      ]
     },
     "execution_count": 24,
     "metadata": {},
     "output_type": "execute_result"
    }
   ],
   "source": [
    "set(df[\"text\"].str.findall(r\"\\S*http\\S*\").sum())"
   ]
  },
  {
   "cell_type": "markdown",
   "metadata": {},
   "source": [
    "### Removing Invalid Whitespace"
   ]
  },
  {
   "cell_type": "code",
   "execution_count": 25,
   "metadata": {},
   "outputs": [],
   "source": [
    "df.loc[:, \"text\"] = df[\"text\"].str.replace(r\"\\s+\", \" \", regex=True).str.strip()"
   ]
  },
  {
   "cell_type": "code",
   "execution_count": 26,
   "metadata": {},
   "outputs": [],
   "source": [
    "if df[\"text\"].str.contains(r\"\\s\\s\").any():\n",
    "    print(\"Error: Consecutive whitespace.\")\n",
    "if df[\"text\"].str.count(r\"\\s\").sum() != df[\"text\"].str.count(\" \").sum():\n",
    "    print(\"Error: Non-space whitespace.\")"
   ]
  },
  {
   "cell_type": "markdown",
   "metadata": {},
   "source": [
    "### Writing Data"
   ]
  },
  {
   "cell_type": "code",
   "execution_count": 28,
   "metadata": {},
   "outputs": [],
   "source": [
    "df.to_csv(\"tranquil/preprocessed_tranquil_tweets.csv\", sep=\"\\t\", encoding=\"utf-16\", index=False)"
   ]
  }
 ],
 "metadata": {
  "kernelspec": {
   "display_name": "Python 3",
   "language": "python",
   "name": "python3"
  },
  "language_info": {
   "codemirror_mode": {
    "name": "ipython",
    "version": 3
   },
   "file_extension": ".py",
   "mimetype": "text/x-python",
   "name": "python",
   "nbconvert_exporter": "python",
   "pygments_lexer": "ipython3",
   "version": "3.11.9"
  }
 },
 "nbformat": 4,
 "nbformat_minor": 2
}
